{
  "cells": [
    {
      "cell_type": "markdown",
      "metadata": {
        "id": "view-in-github",
        "colab_type": "text"
      },
      "source": [
        "<a href=\"https://colab.research.google.com/github/harshitajain06/Allergy_App/blob/master/pdf_processing.ipynb\" target=\"_parent\"><img src=\"https://colab.research.google.com/assets/colab-badge.svg\" alt=\"Open In Colab\"/></a>"
      ]
    },
    {
      "cell_type": "markdown",
      "metadata": {
        "id": "kgpT6mj9NGGT"
      },
      "source": [
        "# PDF Documents Processing\n"
      ]
    },
    {
      "cell_type": "code",
      "execution_count": null,
      "metadata": {
        "id": "9-yiAO2NPF09"
      },
      "outputs": [],
      "source": [
        "# install libs\n",
        "!pip install -qU langchain_community pypdf\n"
      ]
    },
    {
      "cell_type": "code",
      "execution_count": null,
      "metadata": {
        "id": "b48uZ9W1Szoj"
      },
      "outputs": [],
      "source": [
        "from langchain_community.document_loaders import PyPDFLoader\n",
        "from langchain.text_splitter import RecursiveCharacterTextSplitter\n",
        "import pprint"
      ]
    },
    {
      "cell_type": "code",
      "execution_count": null,
      "metadata": {
        "id": "QjkbqLeyPE-F"
      },
      "outputs": [],
      "source": [
        "# Functions to convert read pdf and split text into chunks\n",
        "def load_pdf(pdf_path):\n",
        "    \"\"\"\n",
        "    Load a PDF file and convert to text documents\n",
        "\n",
        "    Args:\n",
        "        pdf_path (str): Path to PDF file\n",
        "\n",
        "    Returns:\n",
        "        list: List of document pages\n",
        "    \"\"\"\n",
        "    loader = PyPDFLoader(pdf_path)\n",
        "    pages = loader.load()\n",
        "    return pages\n",
        "\n",
        "def create_chunks(documents, chunk_size=800, chunk_overlap=200):\n",
        "    \"\"\"\n",
        "    Split documents into overlapping chunks\n",
        "\n",
        "    Args:\n",
        "        documents (list): List of documents to split\n",
        "        chunk_size (int): Size of each chunk in characters\n",
        "        chunk_overlap (int): Number of characters to overlap between chunks\n",
        "\n",
        "    Returns:\n",
        "        list: List of text chunks\n",
        "    \"\"\"\n",
        "    text_splitter = RecursiveCharacterTextSplitter(\n",
        "        chunk_size=chunk_size,\n",
        "        chunk_overlap=chunk_overlap,\n",
        "        length_function=len,\n",
        "        is_separator_regex=False,\n",
        "    )\n",
        "\n",
        "    chunks = text_splitter.split_documents(documents)\n",
        "    return chunks"
      ]
    },
    {
      "cell_type": "code",
      "execution_count": null,
      "metadata": {
        "id": "59sUjs1kSjYy"
      },
      "outputs": [],
      "source": [
        "# let colab access my google drive\n",
        "from google.colab import drive\n",
        "drive.mount('/content/drive')"
      ]
    },
    {
      "cell_type": "code",
      "execution_count": null,
      "metadata": {
        "id": "lbcpxbK3RcUQ"
      },
      "outputs": [],
      "source": [
        "# Load and Chunk the PDF\n",
        "pdf_path = \"lease-agreement-template.pdf\"\n",
        "documents = load_pdf(pdf_path)\n",
        "\n",
        "pprint.pprint(documents[0].metadata)\n"
      ]
    },
    {
      "cell_type": "code",
      "execution_count": null,
      "metadata": {
        "id": "7-v4c8cpboMT"
      },
      "outputs": [],
      "source": [
        "\n",
        "# split doc into chunks\n",
        "chunks = create_chunks(documents)\n",
        "\n",
        "print(len(chunks), \"chunks created from the PDF document.\")\n",
        "\n",
        "for i, chunk in enumerate(chunks[:3]):  # Display first 3 chunks\n",
        "    print(f\"Chunk {i+1}:\")\n",
        "    print(chunk.page_content)  # Print first 100 characters of each chunk\n",
        "    print(\"----- Metadata:\")\n",
        "    print(chunk.metadata)\n",
        "    print(\"\\n\")\n"
      ]
    }
  ],
  "metadata": {
    "colab": {
      "provenance": [],
      "include_colab_link": true
    },
    "kernelspec": {
      "display_name": "Python 3",
      "name": "python3"
    },
    "language_info": {
      "codemirror_mode": {
        "name": "ipython",
        "version": 3
      },
      "file_extension": ".py",
      "mimetype": "text/x-python",
      "name": "python",
      "nbconvert_exporter": "python",
      "pygments_lexer": "ipython3",
      "version": "3.13.5"
    }
  },
  "nbformat": 4,
  "nbformat_minor": 0
}